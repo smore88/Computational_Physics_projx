{
 "cells": [
  {
   "cell_type": "code",
   "execution_count": null,
   "metadata": {},
   "outputs": [],
   "source": [
    "'''\n",
    "I do not have a clue how to make the non atomic gates so I am going to write a program to test various combinations, not sure\n",
    "if this will work but I will try it out\n",
    "'''\n",
    "theta = np.pi\n",
    "gate_matrices = {\n",
    "\t'H' : 1/np.sqrt(2) * np.array([[1, 1],[1, -1]]),\n",
    "\t'P':  np.array([[1, 0], [0, np.exp(1j * theta)]]),\n",
    "\t'Rz' : np.array([[np.exp(-1j * (theta / 2)), 0], [0, np.exp(1j * (theta / 2))]]),\n",
    "\t'Not' : np.array([[0, 1], [1, 0]]),\n",
    "\t'Z' : np.array([[1, 0], [0, -1]])\n",
    "}\n",
    "\n",
    "# Generate all possible combinations\n",
    "def generateCombinations(matrices, currCombo, maxLen, combinations):\n",
    "\tif len(currCombo) == maxLen:\n",
    "\t\tcombinations.append(currCombo.copy())\n",
    "\t\treturn\n",
    "\tfor maxtrixOp in matrices:\n",
    "\t\tcurrCombo.append(maxtrixOp)\n",
    "\t\tgenerateCombinations(matrices, currCombo, maxLen, combinations)\n",
    "\t\tcurrCombo.pop()\n",
    "\n",
    "def findCombination(matrices, matrixGate, maxLen):\n",
    "\tcombinations = []\n",
    "\tgenerateCombinations(matrices, [], maxLen, combinations)\n",
    "\tprint(combinations)\n",
    "\t\n",
    "\tresult = gate_matrices[matrixGate]\n",
    "\tvalidCombo = \"\"\n",
    "\n",
    "\tfor combination in combinations:\n",
    "\t\tmatProduct = gate_matrices[combination[0]]\n",
    "\t\tfor matrix in combination[1:]:\n",
    "\t\t\tmatProduct = matProduct @ gate_matrices[matrix]\n",
    "\n",
    "\t\tif(np.allclose(matProduct, result)):\n",
    "\t\t\tvalidCombo = combination\n",
    "\t\t\tbreak\n",
    "\t\t\n",
    "\treturn validCombo\n",
    "\n",
    "validCombo = findCombination(['H', 'P'], 'Not', 3)\n",
    "print(validCombo)\n",
    "\n",
    "validCombo = findCombination(['Not', 'P'], 'Z', 4)\n",
    "print(validCombo)\n",
    "\n",
    "\t\n"
   ]
  }
 ],
 "metadata": {
  "language_info": {
   "name": "python"
  }
 },
 "nbformat": 4,
 "nbformat_minor": 2
}
